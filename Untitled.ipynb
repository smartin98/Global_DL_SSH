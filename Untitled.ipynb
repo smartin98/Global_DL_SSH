{
 "cells": [
  {
   "cell_type": "markdown",
   "id": "5663ce36-4a9f-4709-b4db-cdd71b4c2171",
   "metadata": {},
   "source": [
    "### Demo Notebook\n",
    "Lightweight demo code to facilitate peer review of our code, full replication of our results requires access to HPC resources"
   ]
  },
  {
   "cell_type": "code",
   "execution_count": null,
   "id": "71b5d4ae-e74e-4bcf-9bbd-4fc3a8e9ee2c",
   "metadata": {},
   "outputs": [],
   "source": []
  }
 ],
 "metadata": {
  "kernelspec": {
   "display_name": "Python [conda env:miniconda3-pytorch]",
   "language": "python",
   "name": "conda-env-miniconda3-pytorch-py"
  },
  "language_info": {
   "codemirror_mode": {
    "name": "ipython",
    "version": 3
   },
   "file_extension": ".py",
   "mimetype": "text/x-python",
   "name": "python",
   "nbconvert_exporter": "python",
   "pygments_lexer": "ipython3",
   "version": "3.11.3"
  }
 },
 "nbformat": 4,
 "nbformat_minor": 5
}
